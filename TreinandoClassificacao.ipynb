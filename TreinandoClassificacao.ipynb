{
 "cells": [
  {
   "cell_type": "code",
   "execution_count": 36,
   "id": "42c6860c-89d7-4339-bc80-2889b1d3fc41",
   "metadata": {},
   "outputs": [],
   "source": [
    "import numpy as np\n",
    "import pandas as pd\n",
    "import matplotlib.pyplot as plt"
   ]
  },
  {
   "cell_type": "code",
   "execution_count": 50,
   "id": "e0c4bebb-c928-4ace-888b-fe06caf9e427",
   "metadata": {},
   "outputs": [
    {
     "data": {
      "text/html": [
       "<div>\n",
       "<style scoped>\n",
       "    .dataframe tbody tr th:only-of-type {\n",
       "        vertical-align: middle;\n",
       "    }\n",
       "\n",
       "    .dataframe tbody tr th {\n",
       "        vertical-align: top;\n",
       "    }\n",
       "\n",
       "    .dataframe thead th {\n",
       "        text-align: right;\n",
       "    }\n",
       "</style>\n",
       "<table border=\"1\" class=\"dataframe\">\n",
       "  <thead>\n",
       "    <tr style=\"text-align: right;\">\n",
       "      <th></th>\n",
       "      <th>Valores</th>\n",
       "      <th>Classificacao</th>\n",
       "    </tr>\n",
       "  </thead>\n",
       "  <tbody>\n",
       "    <tr>\n",
       "      <th>0</th>\n",
       "      <td>13.419013</td>\n",
       "      <td>Sim</td>\n",
       "    </tr>\n",
       "    <tr>\n",
       "      <th>1</th>\n",
       "      <td>-1.738139</td>\n",
       "      <td>Nao</td>\n",
       "    </tr>\n",
       "    <tr>\n",
       "      <th>2</th>\n",
       "      <td>-0.342938</td>\n",
       "      <td>Nao</td>\n",
       "    </tr>\n",
       "    <tr>\n",
       "      <th>3</th>\n",
       "      <td>4.731360</td>\n",
       "      <td>Nao</td>\n",
       "    </tr>\n",
       "    <tr>\n",
       "      <th>4</th>\n",
       "      <td>17.911464</td>\n",
       "      <td>Sim</td>\n",
       "    </tr>\n",
       "    <tr>\n",
       "      <th>5</th>\n",
       "      <td>-0.083636</td>\n",
       "      <td>Nao</td>\n",
       "    </tr>\n",
       "    <tr>\n",
       "      <th>6</th>\n",
       "      <td>16.754473</td>\n",
       "      <td>Sim</td>\n",
       "    </tr>\n",
       "    <tr>\n",
       "      <th>7</th>\n",
       "      <td>13.844741</td>\n",
       "      <td>Sim</td>\n",
       "    </tr>\n",
       "    <tr>\n",
       "      <th>8</th>\n",
       "      <td>21.335552</td>\n",
       "      <td>Sim</td>\n",
       "    </tr>\n",
       "    <tr>\n",
       "      <th>9</th>\n",
       "      <td>29.412845</td>\n",
       "      <td>Sim</td>\n",
       "    </tr>\n",
       "  </tbody>\n",
       "</table>\n",
       "</div>"
      ],
      "text/plain": [
       "     Valores Classificacao\n",
       "0  13.419013           Sim\n",
       "1  -1.738139           Nao\n",
       "2  -0.342938           Nao\n",
       "3   4.731360           Nao\n",
       "4  17.911464           Sim\n",
       "5  -0.083636           Nao\n",
       "6  16.754473           Sim\n",
       "7  13.844741           Sim\n",
       "8  21.335552           Sim\n",
       "9  29.412845           Sim"
      ]
     },
     "execution_count": 50,
     "metadata": {},
     "output_type": "execute_result"
    }
   ],
   "source": [
    "# Criando valores aleatórios para X\n",
    "vetor_1 = np.random.normal(3, 4, 10)\n",
    "vetor_2 = np.random.normal(6, 7, 10)\n",
    "vetor_final = vetor_1 + vetor_2\n",
    "vetor_sim = []\n",
    "vetor_nao = []\n",
    "vetor_classificacao = []\n",
    "for i in vetor_final:\n",
    "    if i > 5:\n",
    "        vetor_sim.append(\"Sim\") # O elemento i, presente ao vetor final, representa o valor que será classificado\n",
    "        vetor_classificacao.append(\"Sim\")\n",
    "        continue\n",
    "    vetor_nao.append(\"Nao\")\n",
    "    vetor_classificacao.append(\"Nao\")\n",
    "df = pd.DataFrame({\"Valores\": vetor_final, \"Classificacao\":vetor_classificacao})\n",
    "df"
   ]
  },
  {
   "cell_type": "markdown",
   "id": "b2987f4d-bb43-4736-80b7-644f61946c96",
   "metadata": {},
   "source": [
    "Basicamente, a partir de valores reais que são classificados segundo um critério, podemos treinar um MODELO para averiguar quais palavras são mais presentes em determinada classe (por exemplo, quais palavras, que são atributos, são mais presentes em um email de spam). No caso acima, defini que pra ser classificado como \"Sim\" precisa ser um valor acima de cinco (um valor numerico) baseado em um critério próprio. Um modelo correto pegaria uma base de dados, verificaria quanto cada dado se repete em cada clas"
   ]
  }
 ],
 "metadata": {
  "kernelspec": {
   "display_name": "Python 3 (ipykernel)",
   "language": "python",
   "name": "python3"
  },
  "language_info": {
   "codemirror_mode": {
    "name": "ipython",
    "version": 3
   },
   "file_extension": ".py",
   "mimetype": "text/x-python",
   "name": "python",
   "nbconvert_exporter": "python",
   "pygments_lexer": "ipython3",
   "version": "3.12.7"
  }
 },
 "nbformat": 4,
 "nbformat_minor": 5
}
